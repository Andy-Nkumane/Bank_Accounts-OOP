{
 "cells": [
  {
   "cell_type": "markdown",
   "metadata": {},
   "source": [
    "# Bank Accounts"
   ]
  },
  {
   "cell_type": "markdown",
   "metadata": {},
   "source": [
    "<div class='alert alert-info'>\n",
    "    \n",
    "   <h3> Overview </h3>\n",
    "   <ul>\n",
    "    <li><a href='#packages'>Packages</a></li>\n",
    "    <li><a href='#part1'>Part 1</a></li>\n",
    "    <li><a href='#part2'>Part 2</a></li>\n",
    "    <li><a href='#part3'>Part 3</a></li>\n",
    "    <li><a href='#test'>Test</a></li>\n",
    "    \n",
    "</div>"
   ]
  },
  {
   "cell_type": "markdown",
   "metadata": {},
   "source": [
    "---"
   ]
  },
  {
   "cell_type": "markdown",
   "metadata": {},
   "source": [
    "<a id='packages'></a>\n",
    "\n",
    "<div class='alert alert-info'>\n",
    "\n",
    "### Packages\n",
    "\n",
    "</div>"
   ]
  },
  {
   "cell_type": "code",
   "execution_count": 1,
   "metadata": {},
   "outputs": [],
   "source": [
    "import pandas as pd\n",
    "import warnings\n",
    "warnings.filterwarnings('ignore')"
   ]
  },
  {
   "cell_type": "markdown",
   "metadata": {},
   "source": [
    "---"
   ]
  },
  {
   "cell_type": "markdown",
   "metadata": {},
   "source": [
    "<a id='part1'></a>\n",
    "<div class='alert alert-warning'>\n",
    "\n",
    "### Part 1\n",
    "\n",
    "</div>"
   ]
  },
  {
   "cell_type": "code",
   "execution_count": 2,
   "metadata": {},
   "outputs": [],
   "source": [
    "class BankAccount:\n",
    "    def __init__(self, balance, interest_rate, monthly_fee):\n",
    "        '''BankAccount constructor - takes in the following arguments \"balance\", \"interest_rate\", and \"fee\". Also initiates \"interest\" to 0.\n",
    "        * balance: float/int\n",
    "        * interest_rate: float/int > percentile\n",
    "        * fee: float/int\n",
    "        \n",
    "        Contains the following methods:\n",
    "        * finish_month\n",
    "        * deposit\n",
    "        * withdraw'''\n",
    "        \n",
    "        self.balance = balance\n",
    "        self.interest_rate = interest_rate\n",
    "        self.interest = 0\n",
    "        self.monthly_fee = monthly_fee\n",
    "        \n",
    "    def finish_month(self):\n",
    "        '''Calculate the new balance at the end of the month by adding the interest which is calculated using the balance\n",
    "        and the interest rate. By adding the interest amount and subtracting the monthly fee, new balance is calculated and\n",
    "        returns the new balance:\n",
    "        * interest = balance * interest rate / 12\n",
    "        * new balance = current balance + interest - monthly fee'''\n",
    "        \n",
    "        self.interest = self.balance * (self.interest_rate / 100) / 12\n",
    "        self.balance += self.interest - self.monthly_fee\n",
    "        return self.balance\n",
    "        \n",
    "    def deposit(self, amount):\n",
    "        '''Method contains only one argument \"amount\", the current balance is increased by the amount and the new balance is returned.\n",
    "        * amount: float/int\n",
    "        * new balance = current balance + amount'''\n",
    "        \n",
    "        self.balance += amount\n",
    "        return self.balance\n",
    "        \n",
    "    def withdraw(self, amount):\n",
    "        '''Method contains only one argument \"amount\", the current balance is decreased by the amount and the new balance is returned.\n",
    "        Only if the current balance is more than the amount being withdrawn, otherwise an error will be raised.\n",
    "        * amount: float/int\n",
    "        * new balance = current balance - amount'''\n",
    "        \n",
    "        if amount > self.balance:\n",
    "            raise Exception('Amount EXCEEDS available balance - DECLINE!!')\n",
    "        else:\n",
    "            self.balance -= amount\n",
    "            return self.balance\n",
    "        "
   ]
  },
  {
   "cell_type": "markdown",
   "metadata": {},
   "source": [
    "---"
   ]
  },
  {
   "cell_type": "markdown",
   "metadata": {},
   "source": [
    "<a id='part2'></a>\n",
    "<div class='alert alert-warning'>\n",
    "\n",
    "### Part 2\n",
    "\n",
    "</div>"
   ]
  },
  {
   "cell_type": "code",
   "execution_count": 3,
   "metadata": {},
   "outputs": [
    {
     "data": {
      "text/html": [
       "<div>\n",
       "<style scoped>\n",
       "    .dataframe tbody tr th:only-of-type {\n",
       "        vertical-align: middle;\n",
       "    }\n",
       "\n",
       "    .dataframe tbody tr th {\n",
       "        vertical-align: top;\n",
       "    }\n",
       "\n",
       "    .dataframe thead th {\n",
       "        text-align: right;\n",
       "    }\n",
       "</style>\n",
       "<table border=\"1\" class=\"dataframe\">\n",
       "  <thead>\n",
       "    <tr style=\"text-align: right;\">\n",
       "      <th></th>\n",
       "      <th>account_number</th>\n",
       "      <th>balance</th>\n",
       "      <th>interest_rate</th>\n",
       "      <th>fee</th>\n",
       "    </tr>\n",
       "  </thead>\n",
       "  <tbody>\n",
       "    <tr>\n",
       "      <th>0</th>\n",
       "      <td>1234567890</td>\n",
       "      <td>1000</td>\n",
       "      <td>12</td>\n",
       "      <td>50</td>\n",
       "    </tr>\n",
       "    <tr>\n",
       "      <th>1</th>\n",
       "      <td>2345678901</td>\n",
       "      <td>2000</td>\n",
       "      <td>10</td>\n",
       "      <td>60</td>\n",
       "    </tr>\n",
       "    <tr>\n",
       "      <th>2</th>\n",
       "      <td>3456789012</td>\n",
       "      <td>4000</td>\n",
       "      <td>8</td>\n",
       "      <td>70</td>\n",
       "    </tr>\n",
       "  </tbody>\n",
       "</table>\n",
       "</div>"
      ],
      "text/plain": [
       "  account_number  balance  interest_rate  fee\n",
       "0     1234567890     1000             12   50\n",
       "1     2345678901     2000             10   60\n",
       "2     3456789012     4000              8   70"
      ]
     },
     "execution_count": 3,
     "metadata": {},
     "output_type": "execute_result"
    }
   ],
   "source": [
    "bank_df = pd.DataFrame({'account_number':['1234567890','2345678901','3456789012'],\n",
    "        'balance':[1000,2000,4000], 'interest_rate':[12,10,8], 'fee':[50,60,70]})\n",
    "bank_df"
   ]
  },
  {
   "cell_type": "code",
   "execution_count": 4,
   "metadata": {},
   "outputs": [],
   "source": [
    "class Bank:\n",
    "    def __init__(self,accounts):\n",
    "        '''BankAccount constructor - takes in the following accounts as an argument.\n",
    "        * accounts: DataFrame\n",
    "        \n",
    "        Contains the following methods:\n",
    "        * withdraw\n",
    "        * deposit\n",
    "        * transfer'''\n",
    "        \n",
    "        self.accounts = accounts\n",
    "        customer == Customer()\n",
    "    \n",
    "    def withdraw(self,bank_account_number,amount,secret_password):\n",
    "        '''Method contains three arguments \"bank_account_number\", \"amount\", and \"secret_password\". The bank account is validated\n",
    "        if it is an existing account (found in DataFrame) and its length equals to ten, plus the secret password should match\n",
    "        the customer's password, otherwise an error will be raised. Attaining the index of the bank account from the DataFrame\n",
    "        in order to get the balance, interest rate and monthly fee for the the specified account number. To instantiate the\n",
    "        BankAccount object and call the withdraw method to process the transaction.\n",
    "        * bank_account_number: string\n",
    "        * amount: float/int\n",
    "        * secret_password: string'''\n",
    "        \n",
    "        if bank_account_number in self.accounts['account_number'].to_list() and len(bank_account_number) == 10 and customer.password == secret_password:\n",
    "            indx = list(self.accounts[self.accounts['account_number'] == bank_account_number].index)[0]\n",
    "            acc = BankAccount(self.accounts['balance'].iloc[indx], self.accounts['interest_rate'].iloc[indx],\n",
    "                             self.accounts['fee'].iloc[indx])\n",
    "            \n",
    "            self.accounts['balance'].iloc[indx] = acc.withdraw(amount)\n",
    "        else:\n",
    "            raise Exception('Invalid account number or does not exist or incorrect password')\n",
    "        \n",
    "    def deposit(self,bank_account_number,amount):\n",
    "        '''Method contains two arguments \"bank_account_number\" and \"amount\". The bank account is validated\n",
    "        if it is an existing account (found in DataFrame) and its length equals to ten; otherwise an error will be raised. \n",
    "        Attaining the index of the bank account from the DataFrame in order to get the balance, interest rate and monthly \n",
    "        fee for the the specified account number. To instantiate the BankAccount object and call the deposit method to process \n",
    "        the transaction.\n",
    "        * bank_account_number: string\n",
    "        * amount: float/int'''\n",
    "        \n",
    "        if bank_account_number in self.accounts['account_number'].to_list() and len(bank_account_number) == 10:\n",
    "            indx = list(self.accounts[self.accounts['account_number'] == bank_account_number].index)[0]\n",
    "            acc = BankAccount(self.accounts['balance'].iloc[indx], self.accounts['interest_rate'].iloc[indx],\n",
    "                             self.accounts['fee'].iloc[indx])\n",
    "            \n",
    "            self.accounts['balance'].iloc[indx] = acc.deposit(amount)\n",
    "        else:\n",
    "            raise Exception('Invalid account number or does not exist')\n",
    "        \n",
    "    def transfer(self,from_bank_account_number,to_bank_account_number,amount,secret_password):\n",
    "        '''Method contains four arguments \"from_bank_account_number\", \"to_bank_account_number\", \"amount\", and \"secret_password\".\n",
    "        Both bank accounts are validated if it is an existing account (found in DataFrame) and its length equals to ten, plus \n",
    "        the secret password should match the customer's password, otherwise an error will be raised. Attaining the index of the \n",
    "        bank accounts from the DataFrame in order to get the balance, interest rate and monthly fee for the the specified \n",
    "        account numbers. To instantiate the BankAccount object and call the ransfer method to process the transaction.\n",
    "        * from_bank_account_number: string\n",
    "        * to_bank_account_number: string\n",
    "        * amount: float/int\n",
    "        * secret_password: string'''\n",
    "        \n",
    "        if (from_bank_account_number in self.accounts['account_number'].to_list()) and (to_bank_account_number in self.accounts['account_number'].to_list()) and (len(from_bank_account_number) == 10) and (len(to_bank_account_number) == 10)  and (customer.password== secret_password):\n",
    "            indxFrom = list(self.accounts[self.accounts['account_number'] == from_bank_account_number].index)[0]\n",
    "            indxTo = list(self.accounts[self.accounts['account_number'] == to_bank_account_number].index)[0]\n",
    "            accFrom = BankAccount(self.accounts['balance'].iloc[indxFrom], self.accounts['interest_rate'].iloc[indxFrom],\n",
    "                             self.accounts['fee'].iloc[indxFrom])\n",
    "            accTo = BankAccount(self.accounts['balance'].iloc[indxTo], self.accounts['interest_rate'].iloc[indxTo],\n",
    "                             self.accounts['fee'].iloc[indxTo])\n",
    "            \n",
    "            self.accounts['balance'].iloc[indxFrom] = accFrom.withdraw(amount)\n",
    "            self.accounts['balance'].iloc[indxTo] = accTo.deposit(amount)\n",
    "        else:\n",
    "            raise Exception('Invalid account number or does not exist or incorrect password')\n",
    "    "
   ]
  },
  {
   "cell_type": "markdown",
   "metadata": {},
   "source": [
    "---"
   ]
  },
  {
   "cell_type": "markdown",
   "metadata": {},
   "source": [
    "<a id='part3'></a>\n",
    "<div class='alert alert-warning'>\n",
    "\n",
    "### Part 3\n",
    "\n",
    "</div>"
   ]
  },
  {
   "cell_type": "code",
   "execution_count": 5,
   "metadata": {},
   "outputs": [],
   "source": [
    "class Customer:\n",
    "    def __init__(self):\n",
    "        '''BankAccount constructor - takes in no arguments. Contains only one method \"set_password\".'''\n",
    "        \n",
    "        pass\n",
    "        \n",
    "    def set_password(self,password):\n",
    "        '''Changing the set password into the new specified password.\n",
    "        * password: string'''\n",
    "        \n",
    "        self.password = password"
   ]
  },
  {
   "cell_type": "markdown",
   "metadata": {},
   "source": [
    "---"
   ]
  },
  {
   "cell_type": "markdown",
   "metadata": {},
   "source": [
    "<a id='test'></a>\n",
    "<div class='alert alert-info'>\n",
    "\n",
    "### Test\n",
    "\n",
    "</div>"
   ]
  },
  {
   "cell_type": "code",
   "execution_count": 6,
   "metadata": {},
   "outputs": [
    {
     "data": {
      "text/plain": [
       "'asdcxz'"
      ]
     },
     "execution_count": 6,
     "metadata": {},
     "output_type": "execute_result"
    }
   ],
   "source": [
    "customer = Customer()\n",
    "customer.set_password('asdcxz')\n",
    "customer.password"
   ]
  },
  {
   "cell_type": "code",
   "execution_count": 7,
   "metadata": {},
   "outputs": [
    {
     "data": {
      "text/html": [
       "<div>\n",
       "<style scoped>\n",
       "    .dataframe tbody tr th:only-of-type {\n",
       "        vertical-align: middle;\n",
       "    }\n",
       "\n",
       "    .dataframe tbody tr th {\n",
       "        vertical-align: top;\n",
       "    }\n",
       "\n",
       "    .dataframe thead th {\n",
       "        text-align: right;\n",
       "    }\n",
       "</style>\n",
       "<table border=\"1\" class=\"dataframe\">\n",
       "  <thead>\n",
       "    <tr style=\"text-align: right;\">\n",
       "      <th></th>\n",
       "      <th>account_number</th>\n",
       "      <th>balance</th>\n",
       "      <th>interest_rate</th>\n",
       "      <th>fee</th>\n",
       "    </tr>\n",
       "  </thead>\n",
       "  <tbody>\n",
       "    <tr>\n",
       "      <th>0</th>\n",
       "      <td>1234567890</td>\n",
       "      <td>1000</td>\n",
       "      <td>12</td>\n",
       "      <td>50</td>\n",
       "    </tr>\n",
       "    <tr>\n",
       "      <th>1</th>\n",
       "      <td>2345678901</td>\n",
       "      <td>2000</td>\n",
       "      <td>10</td>\n",
       "      <td>60</td>\n",
       "    </tr>\n",
       "    <tr>\n",
       "      <th>2</th>\n",
       "      <td>3456789012</td>\n",
       "      <td>4000</td>\n",
       "      <td>8</td>\n",
       "      <td>70</td>\n",
       "    </tr>\n",
       "  </tbody>\n",
       "</table>\n",
       "</div>"
      ],
      "text/plain": [
       "  account_number  balance  interest_rate  fee\n",
       "0     1234567890     1000             12   50\n",
       "1     2345678901     2000             10   60\n",
       "2     3456789012     4000              8   70"
      ]
     },
     "execution_count": 7,
     "metadata": {},
     "output_type": "execute_result"
    }
   ],
   "source": [
    "bank_df"
   ]
  },
  {
   "cell_type": "code",
   "execution_count": 8,
   "metadata": {},
   "outputs": [],
   "source": [
    "bank = Bank(bank_df)"
   ]
  },
  {
   "cell_type": "code",
   "execution_count": 9,
   "metadata": {},
   "outputs": [
    {
     "data": {
      "text/html": [
       "<div>\n",
       "<style scoped>\n",
       "    .dataframe tbody tr th:only-of-type {\n",
       "        vertical-align: middle;\n",
       "    }\n",
       "\n",
       "    .dataframe tbody tr th {\n",
       "        vertical-align: top;\n",
       "    }\n",
       "\n",
       "    .dataframe thead th {\n",
       "        text-align: right;\n",
       "    }\n",
       "</style>\n",
       "<table border=\"1\" class=\"dataframe\">\n",
       "  <thead>\n",
       "    <tr style=\"text-align: right;\">\n",
       "      <th></th>\n",
       "      <th>account_number</th>\n",
       "      <th>balance</th>\n",
       "      <th>interest_rate</th>\n",
       "      <th>fee</th>\n",
       "    </tr>\n",
       "  </thead>\n",
       "  <tbody>\n",
       "    <tr>\n",
       "      <th>0</th>\n",
       "      <td>1234567890</td>\n",
       "      <td>4500</td>\n",
       "      <td>12</td>\n",
       "      <td>50</td>\n",
       "    </tr>\n",
       "    <tr>\n",
       "      <th>1</th>\n",
       "      <td>2345678901</td>\n",
       "      <td>2000</td>\n",
       "      <td>10</td>\n",
       "      <td>60</td>\n",
       "    </tr>\n",
       "    <tr>\n",
       "      <th>2</th>\n",
       "      <td>3456789012</td>\n",
       "      <td>4000</td>\n",
       "      <td>8</td>\n",
       "      <td>70</td>\n",
       "    </tr>\n",
       "  </tbody>\n",
       "</table>\n",
       "</div>"
      ],
      "text/plain": [
       "  account_number  balance  interest_rate  fee\n",
       "0     1234567890     4500             12   50\n",
       "1     2345678901     2000             10   60\n",
       "2     3456789012     4000              8   70"
      ]
     },
     "execution_count": 9,
     "metadata": {},
     "output_type": "execute_result"
    }
   ],
   "source": [
    "bank.deposit('1234567890',3500)\n",
    "bank.accounts"
   ]
  },
  {
   "cell_type": "code",
   "execution_count": 10,
   "metadata": {},
   "outputs": [
    {
     "data": {
      "text/html": [
       "<div>\n",
       "<style scoped>\n",
       "    .dataframe tbody tr th:only-of-type {\n",
       "        vertical-align: middle;\n",
       "    }\n",
       "\n",
       "    .dataframe tbody tr th {\n",
       "        vertical-align: top;\n",
       "    }\n",
       "\n",
       "    .dataframe thead th {\n",
       "        text-align: right;\n",
       "    }\n",
       "</style>\n",
       "<table border=\"1\" class=\"dataframe\">\n",
       "  <thead>\n",
       "    <tr style=\"text-align: right;\">\n",
       "      <th></th>\n",
       "      <th>account_number</th>\n",
       "      <th>balance</th>\n",
       "      <th>interest_rate</th>\n",
       "      <th>fee</th>\n",
       "    </tr>\n",
       "  </thead>\n",
       "  <tbody>\n",
       "    <tr>\n",
       "      <th>0</th>\n",
       "      <td>1234567890</td>\n",
       "      <td>1000</td>\n",
       "      <td>12</td>\n",
       "      <td>50</td>\n",
       "    </tr>\n",
       "    <tr>\n",
       "      <th>1</th>\n",
       "      <td>2345678901</td>\n",
       "      <td>2000</td>\n",
       "      <td>10</td>\n",
       "      <td>60</td>\n",
       "    </tr>\n",
       "    <tr>\n",
       "      <th>2</th>\n",
       "      <td>3456789012</td>\n",
       "      <td>4000</td>\n",
       "      <td>8</td>\n",
       "      <td>70</td>\n",
       "    </tr>\n",
       "  </tbody>\n",
       "</table>\n",
       "</div>"
      ],
      "text/plain": [
       "  account_number  balance  interest_rate  fee\n",
       "0     1234567890     1000             12   50\n",
       "1     2345678901     2000             10   60\n",
       "2     3456789012     4000              8   70"
      ]
     },
     "execution_count": 10,
     "metadata": {},
     "output_type": "execute_result"
    }
   ],
   "source": [
    "bank.withdraw('1234567890',3500,'asdcxz')\n",
    "bank.accounts"
   ]
  },
  {
   "cell_type": "code",
   "execution_count": 11,
   "metadata": {},
   "outputs": [
    {
     "data": {
      "text/html": [
       "<div>\n",
       "<style scoped>\n",
       "    .dataframe tbody tr th:only-of-type {\n",
       "        vertical-align: middle;\n",
       "    }\n",
       "\n",
       "    .dataframe tbody tr th {\n",
       "        vertical-align: top;\n",
       "    }\n",
       "\n",
       "    .dataframe thead th {\n",
       "        text-align: right;\n",
       "    }\n",
       "</style>\n",
       "<table border=\"1\" class=\"dataframe\">\n",
       "  <thead>\n",
       "    <tr style=\"text-align: right;\">\n",
       "      <th></th>\n",
       "      <th>account_number</th>\n",
       "      <th>balance</th>\n",
       "      <th>interest_rate</th>\n",
       "      <th>fee</th>\n",
       "    </tr>\n",
       "  </thead>\n",
       "  <tbody>\n",
       "    <tr>\n",
       "      <th>0</th>\n",
       "      <td>1234567890</td>\n",
       "      <td>1500</td>\n",
       "      <td>12</td>\n",
       "      <td>50</td>\n",
       "    </tr>\n",
       "    <tr>\n",
       "      <th>1</th>\n",
       "      <td>2345678901</td>\n",
       "      <td>2000</td>\n",
       "      <td>10</td>\n",
       "      <td>60</td>\n",
       "    </tr>\n",
       "    <tr>\n",
       "      <th>2</th>\n",
       "      <td>3456789012</td>\n",
       "      <td>3500</td>\n",
       "      <td>8</td>\n",
       "      <td>70</td>\n",
       "    </tr>\n",
       "  </tbody>\n",
       "</table>\n",
       "</div>"
      ],
      "text/plain": [
       "  account_number  balance  interest_rate  fee\n",
       "0     1234567890     1500             12   50\n",
       "1     2345678901     2000             10   60\n",
       "2     3456789012     3500              8   70"
      ]
     },
     "execution_count": 11,
     "metadata": {},
     "output_type": "execute_result"
    }
   ],
   "source": [
    "bank.transfer('3456789012','1234567890',500,'asdcxz')\n",
    "bank.accounts"
   ]
  }
 ],
 "metadata": {
  "kernelspec": {
   "display_name": "Python 3",
   "language": "python",
   "name": "python3"
  },
  "language_info": {
   "codemirror_mode": {
    "name": "ipython",
    "version": 3
   },
   "file_extension": ".py",
   "mimetype": "text/x-python",
   "name": "python",
   "nbconvert_exporter": "python",
   "pygments_lexer": "ipython3",
   "version": "3.6.9"
  }
 },
 "nbformat": 4,
 "nbformat_minor": 2
}
